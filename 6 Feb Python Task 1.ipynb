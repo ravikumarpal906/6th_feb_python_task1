{
 "cells": [
  {
   "cell_type": "raw",
   "id": "857fbe5d-a948-4de4-9060-1e6bc4578770",
   "metadata": {},
   "source": [
    "Q1. Create a function which will take a list as an argument and return the product of all the numbers after creating a flat list.\n",
    "Use the below-given list as an argument for your function.\n",
    "\n",
    "list1 = [1,2,3,4, [44,55,66, True], False, (34,56,78,89,34), {1,2,3,3,2,1}, {1:34, \"key2\": [55, 67, 78, 89], 4: (45,22, 61, 34)}, [56, 'data science'], 'Machine Learning']\n",
    "\n",
    "\n",
    "Note: you must extract numeric keys and values of the dictionary also."
   ]
  },
  {
   "cell_type": "code",
   "execution_count": 57,
   "id": "5bd9aaab-e321-4a03-9ac0-7efcca88b9b0",
   "metadata": {},
   "outputs": [],
   "source": [
    "def flatten_and_multiply(list1):\n",
    "    flat_list=[]\n",
    "    def flatten(l):\n",
    "        for i in l:\n",
    "            if type(i)==int:\n",
    "                flat_list.append(i)\n",
    "            elif type(i)==tuple:\n",
    "                for j in i:\n",
    "                    if type(j)==int:\n",
    "                        flat_list.append(j)\n",
    "            elif type(i)==set:\n",
    "                for j in i:\n",
    "                    if type(j)==int:\n",
    "                        flat_list.append(j)\n",
    "            elif type(i)==list:\n",
    "                for j in i:\n",
    "                    if type(j)==int:\n",
    "                        flat_list.append(j)\n",
    "            elif type(i)==dict:\n",
    "                for j in i.keys():\n",
    "                    if type(j)==int:\n",
    "                        flat_list.append(j)\n",
    "                for j in i.values():\n",
    "                    if type(j)==int:\n",
    "                        flat_list.append(j)\n",
    "                    elif type(j)==tuple:\n",
    "                        for k in j:\n",
    "                            if type(k)==int:\n",
    "                                flat_list.append(k)\n",
    "                    elif type(j)==list:\n",
    "                        for k in j:\n",
    "                            if type(k)==int:\n",
    "                                flat_list.append(k)\n",
    "        return flat_list  \n",
    "    print(flatten(list1))\n",
    "    product=1\n",
    "    for i in flat_list:\n",
    "        product*=i\n",
    "    return product"
   ]
  },
  {
   "cell_type": "code",
   "execution_count": 58,
   "id": "2613e317-c945-45b0-89d0-e00e60a18a2d",
   "metadata": {},
   "outputs": [],
   "source": [
    "list1 = [1,2,3,4, [44,55,66, True], False, (34,56,78,89,34), {1,2,3,3,2,1}, {1:34, \"key2\": [55, 67, 78, 89], 4: (45,22, 61, 34)}, [56, 'data science'], 'Machine Learning']"
   ]
  },
  {
   "cell_type": "code",
   "execution_count": 59,
   "id": "6f899057-5a7e-45bd-aa4c-95a130756fc3",
   "metadata": {},
   "outputs": [
    {
     "name": "stdout",
     "output_type": "stream",
     "text": [
      "[1, 2, 3, 4, 44, 55, 66, 34, 56, 78, 89, 34, 1, 2, 3, 1, 4, 34, 55, 67, 78, 89, 45, 22, 61, 34, 56]\n",
      "Product of all number values: 4134711838987085478833841242112000\n"
     ]
    }
   ],
   "source": [
    "print(\"Product of all number values:\",flatten_and_multiply(list1))"
   ]
  },
  {
   "cell_type": "raw",
   "id": "6399bb45-bf75-49da-adaa-411662f9e5ba",
   "metadata": {},
   "source": [
    "Q2. Write a python program for encrypting a message sent to you by your friend. The logic of encryption should be such that, for a the output should be z. For b, the output should be y. For c, the output should be x respectively. Also, the whitespace should be replaced with a dollar sign. Keep the punctuation marks unchanged.\n",
    "\n",
    "Input Sentence: I want to become a Data Scientist.\n",
    "\n",
    "Encrypt the above input sentence using the program you just created.\n",
    "\n",
    "Note: Convert the given input sentence into lowercase before encrypting. The final output should be lowercase."
   ]
  },
  {
   "cell_type": "code",
   "execution_count": 64,
   "id": "96eed744-c812-4f8d-8bcf-28883a207fa0",
   "metadata": {},
   "outputs": [
    {
     "name": "stdout",
     "output_type": "stream",
     "text": [
      "Encrypted Message: r$dzmg$gl$yvxlnv$z$wzgz$hxrvmgrhg.\n"
     ]
    }
   ],
   "source": [
    "def encrypt_message(message):\n",
    "    encrypted_message = \"\"\n",
    "    for char in message.lower():\n",
    "        if char.isalpha():\n",
    "            encrypted_char = chr(ord('z') - (ord(char) - ord('a')))\n",
    "        elif char.isspace():\n",
    "            encrypted_char = '$'\n",
    "        else:\n",
    "            encrypted_char = char\n",
    "        encrypted_message += encrypted_char\n",
    "    return encrypted_message\n",
    "\n",
    "# Input sentence\n",
    "input_sentence = \"I want to become a Data Scientist.\"\n",
    "\n",
    "encrypted_sentence = encrypt_message(input_sentence)\n",
    "\n",
    "# Print the encrypted message\n",
    "print(\"Encrypted Message:\", encrypted_sentence)\n"
   ]
  }
 ],
 "metadata": {
  "kernelspec": {
   "display_name": "Python 3 (ipykernel)",
   "language": "python",
   "name": "python3"
  },
  "language_info": {
   "codemirror_mode": {
    "name": "ipython",
    "version": 3
   },
   "file_extension": ".py",
   "mimetype": "text/x-python",
   "name": "python",
   "nbconvert_exporter": "python",
   "pygments_lexer": "ipython3",
   "version": "3.10.8"
  }
 },
 "nbformat": 4,
 "nbformat_minor": 5
}
